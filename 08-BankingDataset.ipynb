{
 "cells": [
  {
   "cell_type": "markdown",
   "metadata": {},
   "source": [
    "# Install the ucimlrepo package"
   ]
  },
  {
   "cell_type": "code",
   "execution_count": null,
   "metadata": {},
   "outputs": [],
   "source": [
    "# The following line installs the ucimlrepo package, \n",
    "# which is used to fetch datasets from the UCI Machine Learning Repository\n",
    "# If you have installed the ucimlrepo package, you can skip this line\n",
    "# !pip install ucimlrepo"
   ]
  },
  {
   "cell_type": "markdown",
   "metadata": {},
   "source": [
    "# Import the dataset"
   ]
  },
  {
   "cell_type": "code",
   "execution_count": 2,
   "metadata": {},
   "outputs": [],
   "source": [
    "# Import the pandas library for data manipulation and analysis\n",
    "import pandas as pd\n",
    "\n",
    "# https://archive.ics.uci.edu/dataset/222/bank+marketing\n",
    "# Import the fetch_ucirepo function from the ucimlrepo package\n",
    "from ucimlrepo import fetch_ucirepo\n",
    "\n",
    "# Fetch the bank marketing dataset from the UCI repository using its ID\n",
    "bank_marketing = fetch_ucirepo(id=222)"
   ]
  },
  {
   "cell_type": "code",
   "execution_count": null,
   "metadata": {},
   "outputs": [],
   "source": [
    "# Extract the features (independent variables) from the dataset\n",
    "X = bank_marketing.data.features\n",
    "\n",
    "# Extract the targets (dependent variable) from the dataset\n",
    "y = bank_marketing.data.targets\n",
    "\n",
    "# Get the names of the feature columns\n",
    "features_names = X.columns\n",
    "\n",
    "# Get the name of the target column\n",
    "target_name = y.columns[0]\n",
    "\n",
    "# Print the shape (number of rows and columns) of the features dataframe\n",
    "print(f\"Shape of features: {X.shape}\")\n",
    "\n",
    "# Print the shape (number of rows and columns) of the targets dataframe\n",
    "print(f\"Shape of targets: {y.shape}\")\n",
    "\n",
    "# Print the names of the feature columns\n",
    "print(f\"Features names: {features_names}\")\n",
    "\n",
    "# Print the name of the target column\n",
    "print(f\"Target name: {target_name}\")\n",
    "\n",
    "# Reset the bank_marketing variable to free up memory\n",
    "bank_marketing = 0"
   ]
  },
  {
   "cell_type": "code",
   "execution_count": null,
   "metadata": {},
   "outputs": [],
   "source": [
    "# Display the first 5 rows of the features dataframe to get an overview of the input data\n",
    "X.head()"
   ]
  },
  {
   "cell_type": "code",
   "execution_count": null,
   "metadata": {},
   "outputs": [],
   "source": [
    "# Display the first 5 rows of the targets dataframe to get an overview of the target data\n",
    "y.head()"
   ]
  },
  {
   "cell_type": "code",
   "execution_count": null,
   "metadata": {},
   "outputs": [],
   "source": [
    "# Count the classes of the target variable\n",
    "# Loop through each unique class in the target variable\n",
    "for i in y[target_name].unique():\n",
    "    # Print the class label and the count of occurrences of that class in the target variable\n",
    "    print(f\"Class {i}: {y[target_name].value_counts()[i]}\")"
   ]
  },
  {
   "cell_type": "code",
   "execution_count": null,
   "metadata": {},
   "outputs": [],
   "source": [
    "# Count missing values of target variable\n",
    "missing_values = y.isnull().sum()\n",
    "print(f\"Missing values of target variable: {missing_values}\")\n",
    "\n",
    "# Count the number of missing values in each column\n",
    "missing_values = X.isnull().sum()\n",
    "print(missing_values)"
   ]
  },
  {
   "cell_type": "code",
   "execution_count": null,
   "metadata": {},
   "outputs": [],
   "source": [
    "# Remove the columns with missing values from the features dataframe\n",
    "# axis=1 specifies that we are dropping columns (not rows)\n",
    "# dropna() is a pandas function that removes missing values\n",
    "# By default, dropna() removes rows with missing values, \n",
    "# but setting axis=1 changes it to remove columns instead\n",
    "X = X.dropna(axis=1)\n",
    "# Print the shape of the features dataframe after removing the columns with missing values\n",
    "print(X.shape)"
   ]
  },
  {
   "cell_type": "code",
   "execution_count": null,
   "metadata": {},
   "outputs": [],
   "source": [
    "# print the data type of the features\n",
    "print(X.dtypes)\n",
    "# print the data type of the target variable\n",
    "print(y.dtypes)"
   ]
  },
  {
   "cell_type": "code",
   "execution_count": 10,
   "metadata": {},
   "outputs": [],
   "source": [
    "# Encode the categorical variables using one-hot encoding\n",
    "# One-hot encoding converts categorical variables into a form that can be provided to ML algorithms to do a better job in prediction.\n",
    "# It creates new binary columns, each representing a unique category in the original column.\n",
    "# For example, if a column 'color' has three categories ['red', 'green', 'blue'], one-hot encoding will create three new columns:\n",
    "# 'color_red', 'color_green', and 'color_blue'. Each row will have a \n",
    "# True in the column corresponding to its original category and False in the others.\n",
    "X = pd.get_dummies(X)"
   ]
  },
  {
   "cell_type": "code",
   "execution_count": null,
   "metadata": {},
   "outputs": [],
   "source": [
    "# Print the names of the columns after one-hot encoding\n",
    "# This will help us understand how the categorical variables have been transformed into binary columns\n",
    "print(X.columns)\n",
    "\n",
    "# Display the first 5 rows of the encoded data to get an overview of the transformed features\n",
    "# This will show us how the original categorical values have been converted into binary columns\n",
    "X.head()"
   ]
  }
 ],
 "metadata": {
  "kernelspec": {
   "display_name": "Python 3",
   "language": "python",
   "name": "python3"
  },
  "language_info": {
   "codemirror_mode": {
    "name": "ipython",
    "version": 3
   },
   "file_extension": ".py",
   "mimetype": "text/x-python",
   "name": "python",
   "nbconvert_exporter": "python",
   "pygments_lexer": "ipython3",
   "version": "3.12.6"
  }
 },
 "nbformat": 4,
 "nbformat_minor": 2
}
